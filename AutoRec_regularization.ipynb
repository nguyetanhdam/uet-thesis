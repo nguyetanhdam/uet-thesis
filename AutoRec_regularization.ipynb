{
  "cells": [
    {
      "cell_type": "code",
      "source": [
        "!pip install torchdata"
      ],
      "metadata": {
        "colab": {
          "base_uri": "https://localhost:8080/"
        },
        "id": "0jM2Mq4akyFG",
        "outputId": "478a2e75-cce9-439f-8bfa-035a5996e30f"
      },
      "id": "0jM2Mq4akyFG",
      "execution_count": 1,
      "outputs": [
        {
          "output_type": "stream",
          "name": "stdout",
          "text": [
            "Looking in indexes: https://pypi.org/simple, https://us-python.pkg.dev/colab-wheels/public/simple/\n",
            "Collecting torchdata\n",
            "  Downloading torchdata-0.4.1-cp37-cp37m-manylinux_2_17_x86_64.manylinux2014_x86_64.whl (4.4 MB)\n",
            "\u001b[K     |████████████████████████████████| 4.4 MB 38.0 MB/s \n",
            "\u001b[?25hRequirement already satisfied: requests in /usr/local/lib/python3.7/dist-packages (from torchdata) (2.23.0)\n",
            "Collecting portalocker>=2.0.0\n",
            "  Downloading portalocker-2.5.1-py2.py3-none-any.whl (15 kB)\n",
            "Collecting urllib3>=1.25\n",
            "  Downloading urllib3-1.26.11-py2.py3-none-any.whl (139 kB)\n",
            "\u001b[K     |████████████████████████████████| 139 kB 70.8 MB/s \n",
            "\u001b[?25hCollecting torch==1.12.1\n",
            "  Downloading torch-1.12.1-cp37-cp37m-manylinux1_x86_64.whl (776.3 MB)\n",
            "\u001b[K     |████████████████████████████████| 776.3 MB 12 kB/s \n",
            "\u001b[?25hRequirement already satisfied: typing-extensions in /usr/local/lib/python3.7/dist-packages (from torch==1.12.1->torchdata) (4.1.1)\n",
            "Collecting urllib3>=1.25\n",
            "  Downloading urllib3-1.25.11-py2.py3-none-any.whl (127 kB)\n",
            "\u001b[K     |████████████████████████████████| 127 kB 56.9 MB/s \n",
            "\u001b[?25hRequirement already satisfied: chardet<4,>=3.0.2 in /usr/local/lib/python3.7/dist-packages (from requests->torchdata) (3.0.4)\n",
            "Requirement already satisfied: idna<3,>=2.5 in /usr/local/lib/python3.7/dist-packages (from requests->torchdata) (2.10)\n",
            "Requirement already satisfied: certifi>=2017.4.17 in /usr/local/lib/python3.7/dist-packages (from requests->torchdata) (2022.6.15)\n",
            "Installing collected packages: urllib3, torch, portalocker, torchdata\n",
            "  Attempting uninstall: urllib3\n",
            "    Found existing installation: urllib3 1.24.3\n",
            "    Uninstalling urllib3-1.24.3:\n",
            "      Successfully uninstalled urllib3-1.24.3\n",
            "  Attempting uninstall: torch\n",
            "    Found existing installation: torch 1.12.0+cu113\n",
            "    Uninstalling torch-1.12.0+cu113:\n",
            "      Successfully uninstalled torch-1.12.0+cu113\n",
            "\u001b[31mERROR: pip's dependency resolver does not currently take into account all the packages that are installed. This behaviour is the source of the following dependency conflicts.\n",
            "torchvision 0.13.0+cu113 requires torch==1.12.0, but you have torch 1.12.1 which is incompatible.\n",
            "torchtext 0.13.0 requires torch==1.12.0, but you have torch 1.12.1 which is incompatible.\n",
            "torchaudio 0.12.0+cu113 requires torch==1.12.0, but you have torch 1.12.1 which is incompatible.\u001b[0m\n",
            "Successfully installed portalocker-2.5.1 torch-1.12.1 torchdata-0.4.1 urllib3-1.25.11\n"
          ]
        }
      ]
    },
    {
      "cell_type": "code",
      "source": [
        "!wget https://files.grouplens.org/datasets/movielens/ml-1m.zip\n",
        "!unzip ml-1m.zip"
      ],
      "metadata": {
        "colab": {
          "base_uri": "https://localhost:8080/"
        },
        "id": "3GbcZ0PAkoc6",
        "outputId": "23145b8c-a289-44eb-ea9d-df40547a834f"
      },
      "id": "3GbcZ0PAkoc6",
      "execution_count": 2,
      "outputs": [
        {
          "output_type": "stream",
          "name": "stdout",
          "text": [
            "--2022-08-07 17:22:31--  https://files.grouplens.org/datasets/movielens/ml-1m.zip\n",
            "Resolving files.grouplens.org (files.grouplens.org)... 128.101.65.152\n",
            "Connecting to files.grouplens.org (files.grouplens.org)|128.101.65.152|:443... connected.\n",
            "HTTP request sent, awaiting response... 200 OK\n",
            "Length: 5917549 (5.6M) [application/zip]\n",
            "Saving to: ‘ml-1m.zip’\n",
            "\n",
            "ml-1m.zip           100%[===================>]   5.64M  2.87MB/s    in 2.0s    \n",
            "\n",
            "2022-08-07 17:22:35 (2.87 MB/s) - ‘ml-1m.zip’ saved [5917549/5917549]\n",
            "\n",
            "Archive:  ml-1m.zip\n",
            "   creating: ml-1m/\n",
            "  inflating: ml-1m/movies.dat        \n",
            "  inflating: ml-1m/ratings.dat       \n",
            "  inflating: ml-1m/README            \n",
            "  inflating: ml-1m/users.dat         \n"
          ]
        }
      ]
    },
    {
      "cell_type": "code",
      "execution_count": 3,
      "id": "3ca85530-54da-4a45-bf76-18549c7bc18b",
      "metadata": {
        "id": "3ca85530-54da-4a45-bf76-18549c7bc18b"
      },
      "outputs": [],
      "source": [
        "import torch\n",
        "from torch import nn, div, square, norm\n",
        "from torch.nn import functional as F\n",
        "from torchdata import datapipes as dp\n",
        "import pandas as pd\n",
        "from sklearn.model_selection import train_test_split\n",
        "from sklearn.metrics import mean_squared_error\n",
        "from torch.utils.data import DataLoader\n",
        "import matplotlib.pyplot as plt\n",
        "import time"
      ]
    },
    {
      "cell_type": "code",
      "execution_count": 4,
      "id": "fa37b148-81c0-4c5f-8f91-5c826a2e1132",
      "metadata": {
        "id": "fa37b148-81c0-4c5f-8f91-5c826a2e1132"
      },
      "outputs": [],
      "source": [
        "datapath = 'ml-1m/'\n",
        "seed = 12\n",
        "device = 'cuda' if torch.cuda.is_available() else 'cpu'"
      ]
    },
    {
      "cell_type": "code",
      "execution_count": 5,
      "id": "432aa6bd-69e6-49bc-be63-e2b2f131cc2f",
      "metadata": {
        "id": "432aa6bd-69e6-49bc-be63-e2b2f131cc2f"
      },
      "outputs": [],
      "source": [
        "num_users = pd.read_csv(datapath + 'users.dat',\n",
        "            delimiter='::',\n",
        "            engine='python',\n",
        "            encoding='latin-1',\n",
        "            header=None)[0].max()\n",
        "num_items = pd.read_csv(datapath + 'movies.dat',\n",
        "            delimiter='::',\n",
        "            engine='python',\n",
        "            encoding='latin-1',\n",
        "            header=None)[0].max()"
      ]
    },
    {
      "cell_type": "code",
      "execution_count": 6,
      "id": "adc1f682-19c6-4958-8c24-c320138b3c38",
      "metadata": {
        "colab": {
          "base_uri": "https://localhost:8080/"
        },
        "id": "adc1f682-19c6-4958-8c24-c320138b3c38",
        "outputId": "b52fcc07-aa6a-413a-99ad-da263fe077f2"
      },
      "outputs": [
        {
          "output_type": "execute_result",
          "data": {
            "text/plain": [
              "(6040, 3952)"
            ]
          },
          "metadata": {},
          "execution_count": 6
        }
      ],
      "source": [
        "num_users, num_items"
      ]
    },
    {
      "cell_type": "code",
      "execution_count": 7,
      "id": "841c738c-bc2f-4203-9c3a-e21b4aaa271c",
      "metadata": {
        "colab": {
          "base_uri": "https://localhost:8080/"
        },
        "id": "841c738c-bc2f-4203-9c3a-e21b4aaa271c",
        "outputId": "a5351bff-24e4-4b43-82b5-264d3d2ce8b3"
      },
      "outputs": [
        {
          "output_type": "execute_result",
          "data": {
            "text/plain": [
              "(torch.Size([3161]), torch.Size([791]))"
            ]
          },
          "metadata": {},
          "execution_count": 7
        }
      ],
      "source": [
        "train_items, test_items = train_test_split(torch.arange(num_items),\n",
        "                                           test_size=0.2,\n",
        "                                           random_state=seed)\n",
        "train_items.size(), test_items.size()"
      ]
    },
    {
      "cell_type": "code",
      "execution_count": 8,
      "id": "5eb081cd-a018-4171-8dee-27f91be9ae0e",
      "metadata": {
        "id": "5eb081cd-a018-4171-8dee-27f91be9ae0e"
      },
      "outputs": [],
      "source": [
        "# create global user_item matrix and mask matrix\n",
        "user_item_mat = torch.zeros((num_users, num_items))"
      ]
    },
    {
      "cell_type": "code",
      "execution_count": 9,
      "id": "6cb1e617-274f-44c2-9e3b-5a9e445fed60",
      "metadata": {
        "id": "6cb1e617-274f-44c2-9e3b-5a9e445fed60"
      },
      "outputs": [],
      "source": [
        "ratings = pd.read_csv(datapath + 'ratings.dat',\n",
        "            encoding='latin-1',\n",
        "            header=None,\n",
        "            engine='python',\n",
        "            delimiter='::')"
      ]
    },
    {
      "cell_type": "code",
      "execution_count": 10,
      "id": "dbfe69d5-876f-470b-baaa-c715b0ed7f1f",
      "metadata": {
        "id": "dbfe69d5-876f-470b-baaa-c715b0ed7f1f"
      },
      "outputs": [],
      "source": [
        "def create_data_from_line(line):\n",
        "    user_id, item_id, rating, *_ = line\n",
        "    user_item_mat[user_id - 1, item_id - 1] = rating\n",
        "    return None"
      ]
    },
    {
      "cell_type": "code",
      "execution_count": 11,
      "id": "f1f1c70c-4faf-4333-9ce3-4edae844a7c1",
      "metadata": {
        "id": "f1f1c70c-4faf-4333-9ce3-4edae844a7c1"
      },
      "outputs": [],
      "source": [
        "ratings.T.apply(create_data_from_line);"
      ]
    },
    {
      "cell_type": "code",
      "execution_count": 12,
      "id": "b8908844-5f9a-415f-9b15-d1330c8abdae",
      "metadata": {
        "colab": {
          "base_uri": "https://localhost:8080/"
        },
        "id": "b8908844-5f9a-415f-9b15-d1330c8abdae",
        "outputId": "7bc4e468-4700-4c19-ce7c-67be62296a82"
      },
      "outputs": [
        {
          "output_type": "execute_result",
          "data": {
            "text/plain": [
              "tensor(0.9581)"
            ]
          },
          "metadata": {},
          "execution_count": 12
        }
      ],
      "source": [
        "torch.where(user_item_mat == 0, 1, 0).sum() / (num_users * num_items)"
      ]
    },
    {
      "cell_type": "code",
      "execution_count": 13,
      "id": "2d1b5e0b-614b-43a9-b536-cad62642a39a",
      "metadata": {
        "id": "2d1b5e0b-614b-43a9-b536-cad62642a39a"
      },
      "outputs": [],
      "source": [
        "def collate_fn(batch):\n",
        "    return torch.LongTensor(batch)"
      ]
    },
    {
      "cell_type": "code",
      "execution_count": 14,
      "id": "b85b6d39-3de5-42fd-a7e5-c31f0542321a",
      "metadata": {
        "id": "b85b6d39-3de5-42fd-a7e5-c31f0542321a"
      },
      "outputs": [],
      "source": [
        "def create_datapipe_from_array(array, mode='train', batch_size=32, len=1000):\n",
        "    pipes = dp.iter.IterableWrapper(array)\n",
        "    pipes = pipes.shuffle(buffer_size=len)\n",
        "    pipes = pipes.sharding_filter()\n",
        "    \n",
        "    if mode == 'train':\n",
        "        pipes = pipes.batch(batch_size, drop_last=True)\n",
        "    else:\n",
        "        pipes = pipes.batch(batch_size)\n",
        "    \n",
        "    pipes = pipes.map(collate_fn)\n",
        "    return pipes"
      ]
    },
    {
      "cell_type": "code",
      "execution_count": 15,
      "id": "f4466bc0-38bb-49ae-b5b9-8599aa3b93af",
      "metadata": {
        "id": "f4466bc0-38bb-49ae-b5b9-8599aa3b93af"
      },
      "outputs": [],
      "source": [
        "batch_size = 512\n",
        "\n",
        "train_dp = create_datapipe_from_array(train_items, batch_size=batch_size)\n",
        "test_dp = create_datapipe_from_array(test_items, mode='test', batch_size=batch_size)"
      ]
    },
    {
      "cell_type": "code",
      "execution_count": 16,
      "id": "3c39eebc-f565-401e-b28f-eed5b07a2877",
      "metadata": {
        "id": "3c39eebc-f565-401e-b28f-eed5b07a2877"
      },
      "outputs": [],
      "source": [
        "num_workers = 2\n",
        "\n",
        "train_dl = DataLoader(dataset=train_dp, shuffle=True, num_workers=num_workers)\n",
        "test_dl = DataLoader(dataset=test_dp, shuffle=False, num_workers=num_workers)"
      ]
    },
    {
      "cell_type": "code",
      "execution_count": 17,
      "id": "680914e1-62ca-4ca5-b7c8-55c3f2fbf5fa",
      "metadata": {
        "id": "680914e1-62ca-4ca5-b7c8-55c3f2fbf5fa"
      },
      "outputs": [],
      "source": [
        "class AutoRec(nn.Module):\n",
        "    def __init__(self, d, k, lambda_):\n",
        "        super().__init__()\n",
        "        self.lambda_ = lambda_\n",
        "        self.W = nn.Parameter(torch.randn(d, k))\n",
        "        self.V = nn.Parameter(torch.randn(k, d))\n",
        "        self.mu = nn.Parameter(torch.randn(k))\n",
        "        self.b = nn.Parameter(torch.randn(d))\n",
        "    \n",
        "    def regularization(self):\n",
        "        return div(self.lambda_, 2) * (square(norm(self.W)) + square(norm(self.V)))\n",
        "    \n",
        "    def forward(self, r):\n",
        "        encoder = self.V.matmul(r.T).T + self.mu\n",
        "        return self.W.matmul(encoder.sigmoid().T).T + self.b"
      ]
    },
    {
      "cell_type": "code",
      "execution_count": 19,
      "id": "44c533de-1f35-435d-abf4-92d8b2b66fea",
      "metadata": {
        "id": "44c533de-1f35-435d-abf4-92d8b2b66fea"
      },
      "outputs": [],
      "source": [
        "def train_epoch(model, dl, opt, criterion):\n",
        "    list_loss = []\n",
        "    start_time = time.perf_counter()\n",
        "    for batch_idx, items_idx in enumerate(dl):\n",
        "        r = user_item_mat[:, items_idx].squeeze().permute(1, 0).to(device)\n",
        "        r_hat = model(r)\n",
        "        loss = criterion(r, r_hat * torch.sign(r)) + model.regularization()\n",
        "        \n",
        "        list_loss.append(loss.item())\n",
        "        if batch_idx % 50 == 0:\n",
        "            log_time = round(time.perf_counter() - start_time, 4)\n",
        "            print(\"Loss {:.2f} | {:.4f}s\".format(loss.item(), log_time))\n",
        "        \n",
        "        opt.zero_grad()\n",
        "        loss.backward()\n",
        "        opt.step()\n",
        "\n",
        "    return list_loss"
      ]
    },
    {
      "cell_type": "code",
      "execution_count": 34,
      "id": "9cab2f4a-52d2-4681-a6c8-6d7699084c41",
      "metadata": {
        "id": "9cab2f4a-52d2-4681-a6c8-6d7699084c41"
      },
      "outputs": [],
      "source": [
        "def eval_epoch(model, dl, criterion):\n",
        "    model.eval()\n",
        "    truth = []\n",
        "    predict = []\n",
        "    list_loss = []\n",
        "    start_time = time.perf_counter()\n",
        "    with torch.no_grad():\n",
        "        for batch_idx, items_idx in enumerate(dl):\n",
        "            r = user_item_mat[:, items_idx].squeeze().permute(1, 0).to(device)\n",
        "\n",
        "            r_hat = model(r)\n",
        "\n",
        "            truth.append(r)\n",
        "            predict.append(r_hat * torch.sign(r))\n",
        "\n",
        "            loss = criterion(r, r_hat * torch.sign(r)) + model.regularization()\n",
        "\n",
        "            list_loss.append(loss.item())\n",
        "            if batch_idx % 30 == 0:\n",
        "                log_time = round(time.perf_counter() - start_time, 4)\n",
        "                print(\"Loss {:.2f} | {:.4f}s\".format(loss.item(), log_time))\n",
        "\n",
        "    rmse = torch.Tensor([torch.sqrt(square(r - r_hat).sum() / torch.sign(r).sum())\n",
        "                            for r, r_hat in zip(truth, predict)]).mean().item()\n",
        "\n",
        "    return list_loss, rmse"
      ]
    },
    {
      "cell_type": "code",
      "execution_count": 65,
      "id": "d42ef645-20e3-4419-aadb-68125fc6acf4",
      "metadata": {
        "id": "d42ef645-20e3-4419-aadb-68125fc6acf4"
      },
      "outputs": [],
      "source": [
        "model = AutoRec(d=num_users, k=500, lambda_=0.0001).to(device)\n",
        "opt = torch.optim.Adam(model.parameters(), lr=0.012, weight_decay=1e-5)\n",
        "criterion = nn.MSELoss().to(device)"
      ]
    },
    {
      "cell_type": "code",
      "source": [
        "max_epochs = 100\n",
        "losses = []\n",
        "val_losses = []"
      ],
      "metadata": {
        "id": "c1-EWBorMNCz"
      },
      "id": "c1-EWBorMNCz",
      "execution_count": 66,
      "outputs": []
    },
    {
      "cell_type": "code",
      "execution_count": 67,
      "id": "3802be9b-add0-463c-afac-e9657fd43076",
      "metadata": {
        "colab": {
          "base_uri": "https://localhost:8080/"
        },
        "id": "3802be9b-add0-463c-afac-e9657fd43076",
        "outputId": "c019ff75-ad5b-4580-91e1-bbd314b3f9c7"
      },
      "outputs": [
        {
          "output_type": "stream",
          "name": "stdout",
          "text": [
            "==========Epoch: 0==========\n",
            "Loss 313.26 | 0.2035s\n",
            "Loss 278.65 | 0.1499s\n",
            "==========Epoch: 1==========\n",
            "Loss 278.41 | 0.1927s\n",
            "Loss 250.88 | 0.1586s\n",
            "==========Epoch: 2==========\n",
            "Loss 250.64 | 0.3121s\n",
            "Loss 225.42 | 0.2490s\n",
            "==========Epoch: 3==========\n",
            "Loss 225.41 | 0.3450s\n",
            "Loss 202.17 | 0.2389s\n",
            "==========Epoch: 4==========\n",
            "Loss 202.15 | 0.2964s\n",
            "Loss 181.09 | 0.1404s\n",
            "==========Epoch: 5==========\n",
            "Loss 181.13 | 0.2103s\n",
            "Loss 162.07 | 0.1430s\n",
            "==========Epoch: 6==========\n",
            "Loss 161.98 | 0.1992s\n",
            "Loss 144.96 | 0.1461s\n",
            "==========Epoch: 7==========\n",
            "Loss 144.93 | 0.1951s\n",
            "Loss 129.63 | 0.1549s\n",
            "==========Epoch: 8==========\n",
            "Loss 129.57 | 0.2022s\n",
            "Loss 115.90 | 0.1502s\n",
            "==========Epoch: 9==========\n",
            "Loss 115.84 | 0.1897s\n",
            "Loss 103.63 | 0.1516s\n",
            "==========Epoch: 10==========\n",
            "Loss 103.56 | 0.1994s\n",
            "Loss 92.67 | 0.1459s\n",
            "==========Epoch: 11==========\n",
            "Loss 92.60 | 0.1984s\n",
            "Loss 82.87 | 0.1482s\n",
            "==========Epoch: 12==========\n",
            "Loss 82.82 | 0.1978s\n",
            "Loss 74.12 | 0.1455s\n",
            "==========Epoch: 13==========\n",
            "Loss 74.08 | 0.1955s\n",
            "Loss 66.31 | 0.1596s\n",
            "==========Epoch: 14==========\n",
            "Loss 66.24 | 0.1962s\n",
            "Loss 59.32 | 0.1481s\n",
            "==========Epoch: 15==========\n",
            "Loss 59.27 | 0.1931s\n",
            "Loss 53.08 | 0.1457s\n",
            "==========Epoch: 16==========\n",
            "Loss 53.02 | 0.1913s\n",
            "Loss 47.50 | 0.1611s\n",
            "==========Epoch: 17==========\n",
            "Loss 47.45 | 0.2035s\n",
            "Loss 42.52 | 0.1483s\n",
            "==========Epoch: 18==========\n",
            "Loss 42.48 | 0.2045s\n",
            "Loss 38.06 | 0.1444s\n",
            "==========Epoch: 19==========\n",
            "Loss 38.02 | 0.2020s\n",
            "Loss 34.08 | 0.1593s\n",
            "==========Epoch: 20==========\n",
            "Loss 34.04 | 0.1930s\n",
            "Loss 30.51 | 0.1486s\n",
            "==========Epoch: 21==========\n",
            "Loss 30.48 | 0.2008s\n",
            "Loss 27.33 | 0.1539s\n",
            "==========Epoch: 22==========\n",
            "Loss 27.29 | 0.2063s\n",
            "Loss 24.48 | 0.1528s\n",
            "==========Epoch: 23==========\n",
            "Loss 24.45 | 0.1955s\n",
            "Loss 21.93 | 0.1465s\n",
            "==========Epoch: 24==========\n",
            "Loss 21.90 | 0.2097s\n",
            "Loss 19.64 | 0.1539s\n",
            "==========Epoch: 25==========\n",
            "Loss 19.62 | 0.2024s\n",
            "Loss 17.60 | 0.1441s\n",
            "==========Epoch: 26==========\n",
            "Loss 17.58 | 0.1928s\n",
            "Loss 15.78 | 0.1580s\n",
            "==========Epoch: 27==========\n",
            "Loss 15.76 | 0.1937s\n",
            "Loss 14.14 | 0.1437s\n",
            "==========Epoch: 28==========\n",
            "Loss 14.13 | 0.2042s\n",
            "Loss 12.68 | 0.1566s\n",
            "==========Epoch: 29==========\n",
            "Loss 12.66 | 0.1948s\n",
            "Loss 11.37 | 0.1533s\n",
            "==========Epoch: 30==========\n",
            "Loss 11.35 | 0.2003s\n",
            "Loss 10.20 | 0.1460s\n",
            "==========Epoch: 31==========\n",
            "Loss 10.18 | 0.1948s\n",
            "Loss 9.15 | 0.1598s\n",
            "==========Epoch: 32==========\n",
            "Loss 9.13 | 0.1915s\n",
            "Loss 8.21 | 0.1571s\n",
            "==========Epoch: 33==========\n",
            "Loss 8.20 | 0.1973s\n",
            "Loss 7.36 | 0.1504s\n",
            "==========Epoch: 34==========\n",
            "Loss 7.37 | 0.2040s\n",
            "Loss 6.61 | 0.1571s\n",
            "==========Epoch: 35==========\n",
            "Loss 6.61 | 0.2029s\n",
            "Loss 5.93 | 0.1529s\n",
            "==========Epoch: 36==========\n",
            "Loss 5.92 | 0.1999s\n",
            "Loss 5.33 | 0.1419s\n",
            "==========Epoch: 37==========\n",
            "Loss 5.32 | 0.2054s\n",
            "Loss 4.79 | 0.1483s\n",
            "==========Epoch: 38==========\n",
            "Loss 4.79 | 0.1953s\n",
            "Loss 4.30 | 0.1495s\n",
            "==========Epoch: 39==========\n",
            "Loss 4.29 | 0.1936s\n",
            "Loss 3.87 | 0.1456s\n",
            "==========Epoch: 40==========\n",
            "Loss 3.85 | 0.2045s\n",
            "Loss 3.48 | 0.1452s\n",
            "==========Epoch: 41==========\n",
            "Loss 3.46 | 0.1981s\n",
            "Loss 3.13 | 0.1536s\n",
            "==========Epoch: 42==========\n",
            "Loss 3.11 | 0.2004s\n",
            "Loss 2.81 | 0.1502s\n",
            "==========Epoch: 43==========\n",
            "Loss 2.80 | 0.2050s\n",
            "Loss 2.53 | 0.1494s\n",
            "==========Epoch: 44==========\n",
            "Loss 2.52 | 0.1956s\n",
            "Loss 2.28 | 0.1452s\n",
            "==========Epoch: 45==========\n",
            "Loss 2.28 | 0.1983s\n",
            "Loss 2.05 | 0.1512s\n",
            "==========Epoch: 46==========\n",
            "Loss 2.05 | 0.2027s\n",
            "Loss 1.84 | 0.1435s\n",
            "==========Epoch: 47==========\n",
            "Loss 1.83 | 0.2022s\n",
            "Loss 1.66 | 0.1554s\n",
            "==========Epoch: 48==========\n",
            "Loss 1.66 | 0.1873s\n",
            "Loss 1.49 | 0.1576s\n",
            "==========Epoch: 49==========\n",
            "Loss 1.48 | 0.1986s\n",
            "Loss 1.35 | 0.1545s\n",
            "==========Epoch: 50==========\n",
            "Loss 1.34 | 0.2000s\n",
            "Loss 1.21 | 0.1522s\n",
            "==========Epoch: 51==========\n",
            "Loss 1.21 | 0.1952s\n",
            "Loss 1.09 | 0.1557s\n",
            "==========Epoch: 52==========\n",
            "Loss 1.09 | 0.1985s\n",
            "Loss 0.98 | 0.1438s\n",
            "==========Epoch: 53==========\n",
            "Loss 0.98 | 0.2089s\n",
            "Loss 0.89 | 0.1456s\n",
            "==========Epoch: 54==========\n",
            "Loss 0.88 | 0.1981s\n",
            "Loss 0.80 | 0.1447s\n",
            "==========Epoch: 55==========\n",
            "Loss 0.80 | 0.1997s\n",
            "Loss 0.72 | 0.1523s\n",
            "==========Epoch: 56==========\n",
            "Loss 0.72 | 0.2010s\n",
            "Loss 0.65 | 0.1468s\n",
            "==========Epoch: 57==========\n",
            "Loss 0.65 | 0.1952s\n",
            "Loss 0.59 | 0.1494s\n",
            "==========Epoch: 58==========\n",
            "Loss 0.58 | 0.1965s\n",
            "Loss 0.54 | 0.1524s\n",
            "==========Epoch: 59==========\n",
            "Loss 0.53 | 0.1925s\n",
            "Loss 0.49 | 0.1532s\n",
            "==========Epoch: 60==========\n",
            "Loss 0.48 | 0.1926s\n",
            "Loss 0.44 | 0.1493s\n",
            "==========Epoch: 61==========\n",
            "Loss 0.44 | 0.1901s\n",
            "Loss 0.40 | 0.1562s\n",
            "==========Epoch: 62==========\n",
            "Loss 0.40 | 0.2005s\n",
            "Loss 0.36 | 0.1427s\n",
            "==========Epoch: 63==========\n",
            "Loss 0.36 | 0.2021s\n",
            "Loss 0.33 | 0.1503s\n",
            "==========Epoch: 64==========\n",
            "Loss 0.32 | 0.1959s\n",
            "Loss 0.30 | 0.1533s\n",
            "==========Epoch: 65==========\n",
            "Loss 0.30 | 0.1930s\n",
            "Loss 0.28 | 0.1530s\n",
            "==========Epoch: 66==========\n",
            "Loss 0.27 | 0.1995s\n",
            "Loss 0.25 | 0.1510s\n",
            "==========Epoch: 67==========\n",
            "Loss 0.25 | 0.2022s\n",
            "Loss 0.23 | 0.1582s\n",
            "==========Epoch: 68==========\n",
            "Loss 0.23 | 0.2007s\n",
            "Loss 0.21 | 0.1521s\n",
            "==========Epoch: 69==========\n",
            "Loss 0.21 | 0.1979s\n",
            "Loss 0.20 | 0.1574s\n",
            "==========Epoch: 70==========\n",
            "Loss 0.19 | 0.1950s\n",
            "Loss 0.18 | 0.1508s\n",
            "==========Epoch: 71==========\n",
            "Loss 0.18 | 0.1997s\n",
            "Loss 0.17 | 0.1563s\n",
            "==========Epoch: 72==========\n",
            "Loss 0.16 | 0.1998s\n",
            "Loss 0.16 | 0.1522s\n",
            "==========Epoch: 73==========\n",
            "Loss 0.16 | 0.1969s\n",
            "Loss 0.15 | 0.1494s\n",
            "==========Epoch: 74==========\n",
            "Loss 0.14 | 0.2020s\n",
            "Loss 0.14 | 0.1551s\n",
            "==========Epoch: 75==========\n",
            "Loss 0.13 | 0.1941s\n",
            "Loss 0.13 | 0.1511s\n",
            "==========Epoch: 76==========\n",
            "Loss 0.12 | 0.2032s\n",
            "Loss 0.12 | 0.1463s\n",
            "==========Epoch: 77==========\n",
            "Loss 0.12 | 0.2013s\n",
            "Loss 0.11 | 0.2172s\n",
            "==========Epoch: 78==========\n",
            "Loss 0.11 | 0.3543s\n",
            "Loss 0.11 | 0.2505s\n",
            "==========Epoch: 79==========\n",
            "Loss 0.10 | 0.3265s\n",
            "Loss 0.10 | 0.1553s\n",
            "==========Epoch: 80==========\n",
            "Loss 0.10 | 0.1960s\n",
            "Loss 0.09 | 0.1463s\n",
            "==========Epoch: 81==========\n",
            "Loss 0.09 | 0.2042s\n",
            "Loss 0.09 | 0.1477s\n",
            "==========Epoch: 82==========\n",
            "Loss 0.08 | 0.1993s\n",
            "Loss 0.09 | 0.1571s\n",
            "==========Epoch: 83==========\n",
            "Loss 0.08 | 0.1951s\n",
            "Loss 0.08 | 0.1482s\n",
            "==========Epoch: 84==========\n",
            "Loss 0.08 | 0.2070s\n",
            "Loss 0.08 | 0.1506s\n",
            "==========Epoch: 85==========\n",
            "Loss 0.08 | 0.2000s\n",
            "Loss 0.08 | 0.1458s\n",
            "==========Epoch: 86==========\n",
            "Loss 0.08 | 0.1892s\n",
            "Loss 0.07 | 0.1439s\n",
            "==========Epoch: 87==========\n",
            "Loss 0.07 | 0.2091s\n",
            "Loss 0.07 | 0.1444s\n",
            "==========Epoch: 88==========\n",
            "Loss 0.07 | 0.1985s\n",
            "Loss 0.07 | 0.1509s\n",
            "==========Epoch: 89==========\n",
            "Loss 0.07 | 0.1927s\n",
            "Loss 0.07 | 0.1422s\n",
            "==========Epoch: 90==========\n",
            "Loss 0.07 | 0.2016s\n",
            "Loss 0.07 | 0.1511s\n",
            "==========Epoch: 91==========\n",
            "Loss 0.06 | 0.1971s\n",
            "Loss 0.06 | 0.1400s\n",
            "==========Epoch: 92==========\n",
            "Loss 0.06 | 0.1945s\n",
            "Loss 0.06 | 0.1430s\n",
            "==========Epoch: 93==========\n",
            "Loss 0.06 | 0.1988s\n",
            "Loss 0.06 | 0.1578s\n",
            "==========Epoch: 94==========\n",
            "Loss 0.06 | 0.1995s\n",
            "Loss 0.06 | 0.1462s\n",
            "==========Epoch: 95==========\n",
            "Loss 0.06 | 0.2000s\n",
            "Loss 0.06 | 0.1425s\n",
            "==========Epoch: 96==========\n",
            "Loss 0.06 | 0.1925s\n",
            "Loss 0.06 | 0.1443s\n",
            "==========Epoch: 97==========\n",
            "Loss 0.05 | 0.1914s\n",
            "Loss 0.06 | 0.1582s\n",
            "==========Epoch: 98==========\n",
            "Loss 0.05 | 0.2009s\n",
            "Loss 0.06 | 0.1535s\n",
            "==========Epoch: 99==========\n",
            "Loss 0.06 | 0.2041s\n",
            "Loss 0.06 | 0.1452s\n"
          ]
        }
      ],
      "source": [
        "for epoch in range(max_epochs):\n",
        "    print(\"=\" * 10 + f\"Epoch: {epoch}\" + \"=\" * 10)\n",
        "    epoch_loss = train_epoch(model, train_dl, opt, criterion)\n",
        "    val_loss, rmse = eval_epoch(model, test_dl, criterion)\n",
        "    losses.extend(epoch_loss)\n",
        "    val_losses.extend(val_loss)"
      ]
    },
    {
      "cell_type": "code",
      "source": [
        "plt.plot(losses)\n",
        "plt.plot(val_losses)\n",
        "plt.tight_layout()\n",
        "plt.show()"
      ],
      "metadata": {
        "colab": {
          "base_uri": "https://localhost:8080/",
          "height": 297
        },
        "id": "aWrFCe8KNORw",
        "outputId": "386bbbce-33c6-4bb6-9d1f-447c0fc78680"
      },
      "id": "aWrFCe8KNORw",
      "execution_count": 68,
      "outputs": [
        {
          "output_type": "display_data",
          "data": {
            "text/plain": [
              "<Figure size 432x288 with 1 Axes>"
            ],
            "image/png": "[encoded data removed]"
          },
          "metadata": {
            "needs_background": "light"
          }
        }
      ]
    },
    {
      "cell_type": "code",
      "source": [
        "val_loss, rmse = eval_epoch(model, test_dl, criterion)\n",
        "rmse"
      ],
      "metadata": {
        "colab": {
          "base_uri": "https://localhost:8080/"
        },
        "id": "6e1Qg2LjxZUV",
        "outputId": "32374698-c927-4d8b-8f06-0b782bd1eb4a"
      },
      "id": "6e1Qg2LjxZUV",
      "execution_count": 69,
      "outputs": [
        {
          "output_type": "stream",
          "name": "stdout",
          "text": [
            "Loss 0.06 | 0.1697s\n"
          ]
        },
        {
          "output_type": "execute_result",
          "data": {
            "text/plain": [
              "0.9391703605651855"
            ]
          },
          "metadata": {},
          "execution_count": 69
        }
      ]
    },
    {
      "cell_type": "code",
      "source": [
        ""
      ],
      "metadata": {
        "id": "3PbFHClaYxlj"
      },
      "id": "3PbFHClaYxlj",
      "execution_count": null,
      "outputs": []
    }
  ],
  "metadata": {
    "kernelspec": {
      "display_name": "Python 3 (ipykernel)",
      "language": "python",
      "name": "python3"
    },
    "language_info": {
      "codemirror_mode": {
        "name": "ipython",
        "version": 3
      },
      "file_extension": ".py",
      "mimetype": "text/x-python",
      "name": "python",
      "nbconvert_exporter": "python",
      "pygments_lexer": "ipython3",
      "version": "3.9.12"
    },
    "colab": {
      "name": "AutoRec_regularization.ipynb",
      "provenance": [],
      "collapsed_sections": []
    },
    "accelerator": "GPU",
    "gpuClass": "standard"
  },
  "nbformat": 4,
  "nbformat_minor": 5
}